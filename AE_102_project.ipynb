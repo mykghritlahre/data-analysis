{
  "cells": [
    {
      "cell_type": "code",
      "execution_count": 23,
      "id": "d23b073d-1c9d-492f-b5d0-4a9631bcbcce",
      "metadata": {},
      "outputs": [],
      "source": [
        "import numpy as np\n",
        "import matplotlib.pyplot as plt\n",
        "import seaborn as sns\n",
        "import pandas as pd\n",
        "%matplotlib inline"
      ]
    },
    {
      "cell_type": "code",
      "execution_count": 2,
      "id": "181edd7a-dfe3-4abb-87b5-5e73fb2e5ced",
      "metadata": {},
      "outputs": [],
      "source": [
        "# loading in data set note to other makers keep species.xlsx in same directory "
      ]
    },
    {
      "cell_type": "markdown",
      "id": "f7a2ae53-9596-4cb9-9cd0-a9c0e5afd219",
      "metadata": {},
      "source": [
        "#                     AE102 Project- Data analysis of animal species population extinction\n",
        "###                   analysis of two Random variables (1: endangered  ; 2:least concerned)\n",
        "\n",
        "#                                          \n",
        "##       Contributor:\n",
        "###               Mayank Ghritlahre(210010040)\n"
      ]
    },
    {
      "cell_type": "markdown",
      "id": "fa390a3a-11ef-464e-9efa-9e039bdee333",
      "metadata": {},
      "source": [
        "#                                     The Dataset and Random Variables\n",
        "### we choose our datapoints as follows:\n",
        "•(Endangered/extinct/vulnerable) – which are either extinct are on the high risk\n",
        "\n",
        "•(least concerned) – which are on low risk of extinction\n",
        "\n"
      ]
    },
    {
      "cell_type": "code",
      "execution_count": 3,
      "id": "c0b33d69-70aa-47da-92cf-456af584595f",
      "metadata": {},
      "outputs": [],
      "source": [
        "species = pd.read_excel('species.xlsx')"
      ]
    },
    {
      "cell_type": "code",
      "execution_count": 1,
      "id": "30dbdf26-753d-4216-9d15-354e351d601a",
      "metadata": {
        "trusted": true
      },
      "outputs": [
        {
          "ename": "<class 'NameError'>",
          "evalue": "name 'species' is not defined",
          "output_type": "error",
          "traceback": [
            "\u001b[0;31m---------------------------------------------------------------------------\u001b[0m",
            "\u001b[0;31mNameError\u001b[0m                                 Traceback (most recent call last)",
            "Input \u001b[0;32mIn [1]\u001b[0m, in \u001b[0;36m<cell line: 1>\u001b[0;34m()\u001b[0m\n\u001b[0;32m----> 1\u001b[0m \u001b[43mspecies\u001b[49m\n",
            "\u001b[0;31mNameError\u001b[0m: name 'species' is not defined"
          ]
        }
      ],
      "source": [
        "species\n"
      ]
    },
    {
      "cell_type": "markdown",
      "id": "a2235908-ecfa-4ae0-b5e7-83132b49ea3b",
      "metadata": {},
      "source": [
        "# description of data \n",
        "\n",
        "### We have found Mean, standard deviation(std) ,minimum value .The values of this parameters are as follows."
      ]
    },
    {
      "cell_type": "code",
      "execution_count": 6,
      "id": "3ec8ef88-27e2-49c2-a373-4445dfb71289",
      "metadata": {},
      "outputs": [
        {
          "data": {
            "text/html": [
              "<div>\n",
              "<style scoped>\n",
              "    .dataframe tbody tr th:only-of-type {\n",
              "        vertical-align: middle;\n",
              "    }\n",
              "\n",
              "    .dataframe tbody tr th {\n",
              "        vertical-align: top;\n",
              "    }\n",
              "\n",
              "    .dataframe thead th {\n",
              "        text-align: right;\n",
              "    }\n",
              "</style>\n",
              "<table border=\"1\" class=\"dataframe\">\n",
              "  <thead>\n",
              "    <tr style=\"text-align: right;\">\n",
              "      <th></th>\n",
              "      <th></th>\n",
              "      <th>endangered/extinct/vulnerable</th>\n",
              "      <th>least concerned</th>\n",
              "    </tr>\n",
              "  </thead>\n",
              "  <tbody>\n",
              "    <tr>\n",
              "      <th>0</th>\n",
              "      <td>count</td>\n",
              "      <td>67.000000</td>\n",
              "      <td>67.000000</td>\n",
              "    </tr>\n",
              "    <tr>\n",
              "      <th>1</th>\n",
              "      <td>mean</td>\n",
              "      <td>334.701493</td>\n",
              "      <td>760.283582</td>\n",
              "    </tr>\n",
              "    <tr>\n",
              "      <th>2</th>\n",
              "      <td>std</td>\n",
              "      <td>800.487049</td>\n",
              "      <td>2224.286960</td>\n",
              "    </tr>\n",
              "    <tr>\n",
              "      <th>3</th>\n",
              "      <td>min</td>\n",
              "      <td>0.000000</td>\n",
              "      <td>0.000000</td>\n",
              "    </tr>\n",
              "  </tbody>\n",
              "</table>\n",
              "</div>"
            ],
            "text/plain": [
              "          endangered/extinct/vulnerable  least concerned \n",
              "0  count                      67.000000         67.000000\n",
              "1   mean                     334.701493        760.283582\n",
              "2    std                     800.487049       2224.286960\n",
              "3    min                       0.000000          0.000000"
            ]
          },
          "execution_count": 6,
          "metadata": {},
          "output_type": "execute_result"
        }
      ],
      "source": [
        "#now i will give description \n",
        "data=[['count',len(species[\"endangered/extinct/vulnerable\"]),len(species['least concerned '])],\n",
        "                   ['mean',np.mean(species['endangered/extinct/vulnerable']),np.mean(species['least concerned '])],\n",
        "                   ['std',np.std(species['endangered/extinct/vulnerable'],ddof=1),np.std(species['least concerned '],ddof=1)],\n",
        "                   ['min',np.min(species['endangered/extinct/vulnerable']),np.min(species['least concerned '])]]\n",
        "descrip=pd.DataFrame(data,columns=['','endangered/extinct/vulnerable','least concerned '])\n",
        "descrip"
      ]
    },
    {
      "cell_type": "markdown",
      "id": "db19aeb2-0edd-4840-aa78-3d4555baf144",
      "metadata": {},
      "source": [
        "# Understanding the distributions of our chosen random variable:"
      ]
    },
    {
      "cell_type": "markdown",
      "id": "ca2098f1-071f-46de-9f17-bee6b0060059",
      "metadata": {},
      "source": [
        "### •\tFrequency graphs of RV 1(Endangered/extinct/vulnerable):"
      ]
    },
    {
      "cell_type": "code",
      "execution_count": 7,
      "id": "fce0cc81-665d-401c-94ae-20798321564b",
      "metadata": {},
      "outputs": [
        {
          "data": {
            "text/plain": [
              "<AxesSubplot:xlabel='endangered/extinct/vulnerable', ylabel='Count'>"
            ]
          },
          "execution_count": 7,
          "metadata": {},
          "output_type": "execute_result"
        },
        {
          "data": {
            "image/png": "[encoded data removed]",
            "text/plain": [
              "<Figure size 432x288 with 1 Axes>"
            ]
          },
          "metadata": {
            "needs_background": "light"
          },
          "output_type": "display_data"
        }
      ],
      "source": [
        "# plotling frequency graph for endangered/extinct/vulnerable\n",
        "sns.histplot(species,x='endangered/extinct/vulnerable',bins=20)"
      ]
    },
    {
      "cell_type": "markdown",
      "id": "8defbe76-e134-4821-9192-0d0445232e72",
      "metadata": {},
      "source": [
        "### •\tFrequency graph of RV 2(least concerned):"
      ]
    },
    {
      "cell_type": "code",
      "execution_count": null,
      "id": "373edea7-1902-4b26-a363-5aa84adc068b",
      "metadata": {
        "trusted": true
      },
      "outputs": [
        {
          "ename": "<class 'NameError'>",
          "evalue": "name 'sns' is not defined",
          "output_type": "error",
          "traceback": [
            "\u001b[0;31m---------------------------------------------------------------------------\u001b[0m",
            "\u001b[0;31mNameError\u001b[0m                                 Traceback (most recent call last)",
            "Input \u001b[0;32mIn [3]\u001b[0m, in \u001b[0;36m<cell line: 2>\u001b[0;34m()\u001b[0m\n\u001b[1;32m      1\u001b[0m \u001b[38;5;66;03m# plotling frequency graph for least concerned\u001b[39;00m\n\u001b[0;32m----> 2\u001b[0m \u001b[43msns\u001b[49m\u001b[38;5;241m.\u001b[39mhistplot(species,x\u001b[38;5;241m=\u001b[39m\u001b[38;5;124m'\u001b[39m\u001b[38;5;124mleast concerned \u001b[39m\u001b[38;5;124m'\u001b[39m,bins\u001b[38;5;241m=\u001b[39m\u001b[38;5;241m20\u001b[39m)\n",
            "\u001b[0;31mNameError\u001b[0m: name 'sns' is not defined"
          ]
        }
      ],
      "source": [
        "# plotling frequency graph for least concerned\n",
        "sns.histplot(species,x='least concerned ',bins=20)\n"
      ]
    },
    {
      "cell_type": "markdown",
      "id": "3f92ef48-3f74-4434-8e51-df677a5b3a73",
      "metadata": {},
      "source": [
        "### •\tJoint distribution of RV 1 & RV 2:\n",
        "The joint plot of our random variables is given below . There is very little overlapping between these two RVs\n"
      ]
    },
    {
      "cell_type": "code",
      "execution_count": 9,
      "id": "2df3a1a2-6a33-4220-8cc9-0e45169d5f89",
      "metadata": {},
      "outputs": [
        {
          "data": {
            "text/plain": [
              "<AxesSubplot:xlabel='endangered/extinct/vulnerable', ylabel='least concerned '>"
            ]
          },
          "execution_count": 9,
          "metadata": {},
          "output_type": "execute_result"
        },
        {
          "data": {
            "image/png": "[encoded data removed]",
            "text/plain": [
              "<Figure size 432x288 with 1 Axes>"
            ]
          },
          "metadata": {
            "needs_background": "light"
          },
          "output_type": "display_data"
        }
      ],
      "source": [
        "sns.histplot(species, x=\"endangered/extinct/vulnerable\", y=\"least concerned \", )"
      ]
    },
    {
      "cell_type": "markdown",
      "id": "4b80100f-1977-4d12-bccd-4b6a178b315e",
      "metadata": {},
      "source": [
        "# Sampling distributions:"
      ]
    },
    {
      "cell_type": "markdown",
      "id": "c28c814b-634f-4a02-8a39-fccdb9459846",
      "metadata": {},
      "source": [
        "## Sampling distribution of means of RVs:"
      ]
    },
    {
      "cell_type": "code",
      "execution_count": 10,
      "id": "960a767d-7389-4c0c-8ae0-0292eaeaeace",
      "metadata": {},
      "outputs": [],
      "source": [
        "#now for sample mean \n",
        "\n",
        "\n",
        "def collect_sample_means(data, n_samples, n_people):\n",
        "    avgs = np.zeros(n_people)\n",
        "    for i in range(n_people):\n",
        "        sample = np.random.choice(species[data], n_samples, replace=False)\n",
        "        avgs[i] = np.mean(sample)\n",
        "    return avgs"
      ]
    },
    {
      "cell_type": "markdown",
      "id": "b6a4288f-f511-40a6-895d-3b7dd984acb6",
      "metadata": {},
      "source": [
        "### Sampling disrtibution of sample mean of RV1(endangered/extinct/vulnerable)\n",
        " the plot given below is when 200 samples of size 10 were taken"
      ]
    },
    {
      "cell_type": "code",
      "execution_count": 11,
      "id": "986137db-c186-4daf-bd80-453ff5cabdd7",
      "metadata": {},
      "outputs": [
        {
          "data": {
            "text/plain": [
              "(array([21., 16.,  5.,  6., 14., 21., 19., 23., 13.,  9., 12., 10.,  5.,\n",
              "         4.,  5.,  3.,  6.,  4.,  3.,  1.]),\n",
              " array([  5.5  ,  50.795,  96.09 , 141.385, 186.68 , 231.975, 277.27 ,\n",
              "        322.565, 367.86 , 413.155, 458.45 , 503.745, 549.04 , 594.335,\n",
              "        639.63 , 684.925, 730.22 , 775.515, 820.81 , 866.105, 911.4  ]),\n",
              " <BarContainer object of 20 artists>)"
            ]
          },
          "execution_count": 11,
          "metadata": {},
          "output_type": "execute_result"
        },
        {
          "data": {
            "image/png": "[encoded data removed]",
            "text/plain": [
              "<Figure size 432x288 with 1 Axes>"
            ]
          },
          "metadata": {
            "needs_background": "light"
          },
          "output_type": "display_data"
        }
      ],
      "source": [
        "# plot of endangered/extinct/vulnerable\n",
        "# will take 200 samples of size 10\n",
        "endangered_m=collect_sample_means(\"endangered/extinct/vulnerable\",10,200)\n",
        "hist(endangered_m,bins=20)"
      ]
    },
    {
      "cell_type": "markdown",
      "id": "34587561-9b1c-4738-9913-e96136d3a1b7",
      "metadata": {},
      "source": [
        "### Sampling distribution of mean of RV2 (least concerned)\n",
        "the plot given below is when we have taken 200 samples of size 10"
      ]
    },
    {
      "cell_type": "code",
      "execution_count": 15,
      "id": "4693b61e-10db-4982-888e-77c7a35f6d1b",
      "metadata": {},
      "outputs": [
        {
          "data": {
            "text/plain": [
              "(array([41.,  4., 31.,  8., 19.,  7., 27.,  6., 11.,  9.,  5.,  5.,  6.,\n",
              "         6.,  3.,  4.,  3.,  1.,  1.,  3.]),\n",
              " array([1.50000e+00, 1.47940e+02, 2.94380e+02, 4.40820e+02, 5.87260e+02,\n",
              "        7.33700e+02, 8.80140e+02, 1.02658e+03, 1.17302e+03, 1.31946e+03,\n",
              "        1.46590e+03, 1.61234e+03, 1.75878e+03, 1.90522e+03, 2.05166e+03,\n",
              "        2.19810e+03, 2.34454e+03, 2.49098e+03, 2.63742e+03, 2.78386e+03,\n",
              "        2.93030e+03]),\n",
              " <BarContainer object of 20 artists>)"
            ]
          },
          "execution_count": 15,
          "metadata": {},
          "output_type": "execute_result"
        },
        {
          "data": {
            "image/png": "[encoded data removed]",
            "text/plain": [
              "<Figure size 432x288 with 1 Axes>"
            ]
          },
          "metadata": {
            "needs_background": "light"
          },
          "output_type": "display_data"
        }
      ],
      "source": [
        "# plot of least concerned\n",
        "# will take 200 samples of size 10\n",
        "lc_m=collect_sample_means(\"least concerned \",10,200)\n",
        "hist(lc_m,bins=20)"
      ]
    },
    {
      "cell_type": "markdown",
      "id": "8e4dd210-b322-4532-8090-ed567f887fd6",
      "metadata": {},
      "source": [
        "## Sampling distribution of variance of RVs:"
      ]
    },
    {
      "cell_type": "code",
      "execution_count": 12,
      "id": "3b0ad09c-1c6c-431d-9e2c-0f481eeab019",
      "metadata": {},
      "outputs": [],
      "source": [
        "#sample variance\n",
        "\n",
        "def collect_sample_variance(data, n_samples, n_people):\n",
        "    vars = np.zeros(n_people)\n",
        "    for i in range(n_people):\n",
        "        sample = np.random.choice(species[data], n_samples, replace=False)\n",
        "        vars[i]= (np.std(sample,ddof=1))**2\n",
        "    return vars"
      ]
    },
    {
      "cell_type": "markdown",
      "id": "914796af-fdec-40be-9685-5988eabfc5c8",
      "metadata": {},
      "source": [
        "### Sampling disrtibution of sample variance of RV1(endangered/extinct/vulnerable)"
      ]
    },
    {
      "cell_type": "code",
      "execution_count": 13,
      "id": "ed868d08-8923-4bfb-975f-ea9abb49bf4a",
      "metadata": {},
      "outputs": [
        {
          "data": {
            "text/plain": [
              "(array([53.,  5., 12.,  9.,  1., 19., 23., 18., 10., 10., 10.,  6.,  4.,\n",
              "         5.,  6.,  6.,  2.,  0.,  0.,  1.]),\n",
              " array([7.35666667e+01, 1.03797327e+05, 2.07521087e+05, 3.11244847e+05,\n",
              "        4.14968607e+05, 5.18692367e+05, 6.22416127e+05, 7.26139887e+05,\n",
              "        8.29863647e+05, 9.33587407e+05, 1.03731117e+06, 1.14103493e+06,\n",
              "        1.24475869e+06, 1.34848245e+06, 1.45220621e+06, 1.55592997e+06,\n",
              "        1.65965373e+06, 1.76337749e+06, 1.86710125e+06, 1.97082501e+06,\n",
              "        2.07454877e+06]),\n",
              " <BarContainer object of 20 artists>)"
            ]
          },
          "execution_count": 13,
          "metadata": {},
          "output_type": "execute_result"
        },
        {
          "data": {
            "image/png": "[encoded data removed]",
            "text/plain": [
              "<Figure size 432x288 with 1 Axes>"
            ]
          },
          "metadata": {
            "needs_background": "light"
          },
          "output_type": "display_data"
        }
      ],
      "source": [
        "# plot of endangered/extinct/vulnerable\n",
        "# will take 200 samples of size 10\n",
        "endangered_v=collect_sample_variance(\"endangered/extinct/vulnerable\",10,200)\n",
        "hist(endangered_v,bins=20)"
      ]
    },
    {
      "cell_type": "markdown",
      "id": "517b2a4e-bf13-4d35-9121-56417f05933f",
      "metadata": {},
      "source": [
        "### Sampling distribution of variance of RV2 (least concerned)"
      ]
    },
    {
      "cell_type": "code",
      "execution_count": 16,
      "id": "89829e47-e534-4784-9660-57be47a45974",
      "metadata": {},
      "outputs": [
        {
          "data": {
            "text/plain": [
              "(array([95., 18.,  4., 33.,  3.,  1., 16.,  0.,  2.,  0.,  0.,  0.,  0.,\n",
              "         0.,  0., 17.,  2.,  2.,  0.,  7.]),\n",
              " array([3.50666667e+01, 1.12226256e+06, 2.24449004e+06, 3.36671753e+06,\n",
              "        4.48894502e+06, 5.61117251e+06, 6.73340000e+06, 7.85562749e+06,\n",
              "        8.97785498e+06, 1.01000825e+07, 1.12223100e+07, 1.23445374e+07,\n",
              "        1.34667649e+07, 1.45889924e+07, 1.57112199e+07, 1.68334474e+07,\n",
              "        1.79556749e+07, 1.90779024e+07, 2.02001299e+07, 2.13223574e+07,\n",
              "        2.24445848e+07]),\n",
              " <BarContainer object of 20 artists>)"
            ]
          },
          "execution_count": 16,
          "metadata": {},
          "output_type": "execute_result"
        },
        {
          "data": {
            "image/png": "[encoded data removed]",
            "text/plain": [
              "<Figure size 432x288 with 1 Axes>"
            ]
          },
          "metadata": {
            "needs_background": "light"
          },
          "output_type": "display_data"
        }
      ],
      "source": [
        "# plot of least concerned\n",
        "# will take 200 samples of size 10\n",
        "lc_v=collect_sample_variance(\"least concerned \",10,200)\n",
        "hist(lc_v,bins=20)"
      ]
    },
    {
      "cell_type": "markdown",
      "id": "bc78a2d4-cfd2-46d9-bda3-1967fc2a49cd",
      "metadata": {},
      "source": [
        "# point and interval estimates\n",
        "as we found the sampling distributions earlier we can use them to find our mean and variance of random variables"
      ]
    },
    {
      "cell_type": "markdown",
      "id": "d6984cb9-baae-443b-adca-8d0de72ac2f2",
      "metadata": {},
      "source": [
        "## point estimates of RV1(endangered/extinct/vulnerable):"
      ]
    },
    {
      "cell_type": "code",
      "execution_count": 17,
      "id": "bfd0a5da-8fc1-4d38-8b58-c32e6244bda1",
      "metadata": {},
      "outputs": [
        {
          "name": "stdout",
          "output_type": "stream",
          "text": [
            "Estimate of Mean endangered/extinct/vulnerable : 742.716\n",
            "\n",
            "True Mean of endangered/extinct/vulnerable : 334.7014925373134\n",
            "\n",
            "True Variance of endangered/extinct/vulnerable : 608172.6865\n",
            "\n",
            "True Variance of endangered/extinct/vulnerable : 640779.5156037996\n"
          ]
        }
      ],
      "source": [
        "print('Estimate of Mean endangered/extinct/vulnerable :', np.mean(endangered_m))\n",
        "print('True Mean of endangered/extinct/vulnerable :',np.mean(species['endangered/extinct/vulnerable']) )\n",
        "print('True Variance of endangered/extinct/vulnerable :',np.mean(endangered_v))\n",
        "print('True Variance of endangered/extinct/vulnerable :',(np.std(species['endangered/extinct/vulnerable'],ddof=1))**2)"
      ]
    },
    {
      "cell_type": "markdown",
      "id": "e4a3052b-91df-4ca4-a7a8-960aeeb60894",
      "metadata": {},
      "source": [
        "## point estimates of RV2(least concerned)"
      ]
    },
    {
      "cell_type": "code",
      "execution_count": 4,
      "id": "6926641c-4dfd-4ce4-8067-322155c14f5e",
      "metadata": {
        "trusted": true
      },
      "outputs": [
        {
          "ename": "<class 'NameError'>",
          "evalue": "name 'np' is not defined",
          "output_type": "error",
          "traceback": [
            "\u001b[0;31m---------------------------------------------------------------------------\u001b[0m",
            "\u001b[0;31mNameError\u001b[0m                                 Traceback (most recent call last)",
            "Input \u001b[0;32mIn [4]\u001b[0m, in \u001b[0;36m<cell line: 1>\u001b[0;34m()\u001b[0m\n\u001b[0;32m----> 1\u001b[0m \u001b[38;5;28mprint\u001b[39m(\u001b[38;5;124m'\u001b[39m\u001b[38;5;124mEstimate of Mean least concerned :\u001b[39m\u001b[38;5;124m'\u001b[39m, \u001b[43mnp\u001b[49m\u001b[38;5;241m.\u001b[39mmean(lc_m))\n\u001b[1;32m      2\u001b[0m \u001b[38;5;28mprint\u001b[39m(\u001b[38;5;124m'\u001b[39m\u001b[38;5;124mTrue Mean of least concerned :\u001b[39m\u001b[38;5;124m'\u001b[39m,np\u001b[38;5;241m.\u001b[39mmean(species[\u001b[38;5;124m'\u001b[39m\u001b[38;5;124mleast concerned \u001b[39m\u001b[38;5;124m'\u001b[39m]) )\n\u001b[1;32m      3\u001b[0m \u001b[38;5;28mprint\u001b[39m(\u001b[38;5;124m'\u001b[39m\u001b[38;5;124mTrue Variance of least concerned :\u001b[39m\u001b[38;5;124m'\u001b[39m,np\u001b[38;5;241m.\u001b[39mmean(lc_v))\n",
            "\u001b[0;31mNameError\u001b[0m: name 'np' is not defined"
          ]
        }
      ],
      "source": [
        "print('Estimate of Mean least concerned :', np.mean(lc_m))\n",
        "print('True Mean of least concerned :',np.mean(species['least concerned ']) )\n",
        "print('True Variance of least concerned :',np.mean(lc_v))\n",
        "print('True Variance of least concerned :',(np.std(species['least concerned '],ddof=1))**2)"
      ]
    },
    {
      "cell_type": "markdown",
      "id": "339fcda3-2bdf-456d-a35a-a8b41f611834",
      "metadata": {},
      "source": [
        "### from above values we can see point estimate of variance and mean of both RVs are approx. equal (except mean of RV1)"
      ]
    },
    {
      "cell_type": "markdown",
      "id": "1c090f04-fd73-4eca-b5ea-7a2929b15a4f",
      "metadata": {},
      "source": [
        "## Regression\n"
      ]
    },
    {
      "cell_type": "markdown",
      "id": "518772a1-af40-4680-aedf-6459c3412534",
      "metadata": {},
      "source": [
        "why regression?\n",
        "we need to find that,Is there any relationship between two random variables that we chosed, this can be done by finding relation throudh regression."
      ]
    },
    {
      "cell_type": "code",
      "execution_count": 20,
      "id": "8c2f31d2-9907-4020-b132-808923aa683a",
      "metadata": {},
      "outputs": [],
      "source": [
        "x=species['least concerned '].to_numpy()\n",
        "y=species['endangered/extinct/vulnerable'].to_numpy()\n",
        "b1,b0=np.polyfit(x,y,1)"
      ]
    },
    {
      "cell_type": "code",
      "execution_count": 24,
      "id": "1309bf45-a0ea-4491-b970-b55911c5ec7c",
      "metadata": {},
      "outputs": [
        {
          "data": {
            "text/plain": [
              "Text(0, 0.5, 'endangered/extinct/vulnerable')"
            ]
          },
          "execution_count": 24,
          "metadata": {},
          "output_type": "execute_result"
        },
        {
          "data": {
            "image/png": "[encoded data removed]",
            "text/plain": [
              "<Figure size 432x288 with 1 Axes>"
            ]
          },
          "metadata": {
            "needs_background": "light"
          },
          "output_type": "display_data"
        }
      ],
      "source": [
        "plt.plot(x,y,'ro',markersize=1,)\n",
        "plt.plot(x,b0+b1*x, lw=1)\n",
        "plt.xlabel('least concerned')\n",
        "plt.ylabel('endangered/extinct/vulnerable')"
      ]
    },
    {
      "cell_type": "markdown",
      "id": "f3dd371b-7b92-4234-864d-cb79a035d46b",
      "metadata": {},
      "source": [
        "## the above shown graph clears that both RVs are not nicely related(as specified earlier in joint distribution) as it does not fit on data accurately "
      ]
    },
    {
      "cell_type": "code",
      "execution_count": null,
      "id": "8bc26b6a-8774-4774-bcf3-034ff5a22f98",
      "metadata": {},
      "outputs": [],
      "source": []
    }
  ],
  "metadata": {
    "kernelspec": {
      "display_name": "Python (Pyodide)",
      "language": "python",
      "name": "python"
    },
    "language_info": {
      "codemirror_mode": {
        "name": "python",
        "version": 3
      },
      "file_extension": ".py",
      "mimetype": "text/x-python",
      "name": "python",
      "nbconvert_exporter": "python",
      "pygments_lexer": "ipython3",
      "version": "3.8"
    }
  },
  "nbformat": 4,
  "nbformat_minor": 5
}
